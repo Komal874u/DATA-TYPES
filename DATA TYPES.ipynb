{
 "cells": [
  {
   "cell_type": "markdown",
   "id": "5f23427d-4ee1-4563-84aa-401f703c8cde",
   "metadata": {},
   "source": [
    "DATA TYPES-Theoretical questions"
   ]
  },
  {
   "cell_type": "markdown",
   "id": "02913509-748d-426e-a558-cd93b31d29ee",
   "metadata": {},
   "source": [
    " # 1.What are data structures, and why are they important?\n",
    " ANS:\n",
    " Data structure are ways to store and organize data in a computer so we can use it easily abd fast.\n",
    " Example:\n",
    "A list is a data structure. It helps you keep many values together like:\n",
    "\n",
    "marks = [90, 85, 70]\n",
    "\n",
    "Why important:\n",
    "- Easy to manage data\n",
    "- Fast to find or update data\n",
    "- store data properly\n",
    "- Save memory abd time\n",
    "- Save real-life problems\n"
   ]
  },
  {
   "cell_type": "markdown",
   "id": "e05b91ae-fa9c-4def-9376-da33c31bae24",
   "metadata": {},
   "source": [
    " # 2. Difference between mutable and immutable data types\n",
    "\n",
    "| **Mutable**                           | **Immutable**                            |\n",
    "| ------------------------------------- | ---------------------------------------- |\n",
    "| Can be changed after creation         | Cannot be changed after creation         |\n",
    "| Example: List, Dictionary, Set        | Example: String, Tuple, Integer          |\n",
    "| You can add, remove, or update values | You cannot change the value or structure |\n",
    "| Use more memory if changed often      | Use less memory for fixed values         |\n"
   ]
  },
  {
   "cell_type": "markdown",
   "id": "c3613f00-c39d-48df-a7b9-e6cfe405847f",
   "metadata": {},
   "source": [
    "# 3. Difference between list and tuple\n",
    "\n",
    "| **List**              | **Tuple**                 |\n",
    "| --------------------- | ------------------------- |\n",
    "| Mutable (can change)  | Immutable (cannot change) |\n",
    "| Written with `[]`     | Written with `()`         |\n",
    "| Slower than tuple     | Faster than list          |\n",
    "| Can add, remove items | Cannot add, remove items  |\n"
   ]
  },
  {
   "cell_type": "markdown",
   "id": "a882d958-0795-41c0-b360-e4cfde1678a9",
   "metadata": {},
   "source": [
    "# 4. How do dictionaries store data?\n",
    "ANS:\n",
    "Dictionaries use key-value pairs.\n",
    "\n",
    "- Example:\n",
    "\n",
    "student = {\"name\": \"Komal\", \"age\": 21}  \n",
    "NOTE:\"name\" is key, \"Komal\" is value\n"
   ]
  },
  {
   "cell_type": "markdown",
   "id": "1c9711c5-f14c-4a92-a665-a6eea3e6a646",
   "metadata": {},
   "source": [
    "# 5. Why use a set instead of a list?\n",
    "ANS:\n",
    "Set removes duplicates\n",
    "\n",
    "Set is faster for checking values\n",
    "- Example:\n",
    "\n",
    "my_set = {1, 2, 2, 3}  \n",
    "print(my_set)  # Output: {1, 2, 3}\n"
   ]
  },
  {
   "cell_type": "markdown",
   "id": "0627f3b9-ad42-472b-8965-e5c5d03d678e",
   "metadata": {},
   "source": [
    "# 6. What is a string in Python, and how is it different from a list?\n",
    "ANS:\n",
    "String is a group of characters\n",
    "You can’t change a string, but you can change a list\n",
    "Example:\n",
    "- String\n",
    "s = \"hello\"\n",
    "- List\n",
    "  l =['h', 'e', 'l', 'l', 'o']  \n",
    "l[0] = 'H'\n",
    "- NOTE:s[0] = 'H' Not allowed\n"
   ]
  },
  {
   "cell_type": "markdown",
   "id": "52a84d3b-9320-4b1b-8579-4dc54d556d93",
   "metadata": {},
   "source": [
    "# 7.How do tuples ensure data integrity?\n",
    "ANS:\n",
    "Tuples can’t change, so data is safe\n",
    "\n",
    "Good for fixed data\n",
    "\n",
    "\n",
    "- Example:\n",
    "\n",
    "location = (19.0760, 72.877)\n"
   ]
  },
  {
   "cell_type": "markdown",
   "id": "1bb46338-a94f-413c-95e3-799c4e1ca1f6",
   "metadata": {},
   "source": [
    "# 8.What is a hash table and how does it relate to dictionaries?\n",
    "ANS:\n",
    "Hash table is a way to store data using a key\n",
    "\n",
    "Dictionary in Python uses hash table inside\n",
    "\n",
    "- Example:\n",
    "\n",
    "data = {\"name\": \"Komal\"}\n",
    "\n"
   ]
  },
  {
   "cell_type": "markdown",
   "id": "8f6d2bf4-50d8-497e-a003-1be6bd5b14ed",
   "metadata": {},
   "source": [
    "# 9. Can lists have different types of data?\n",
    "ANS:\n",
    "Yes!\n",
    "\n",
    "- Example:\n",
    "\n",
    "my_tuple = [1, \"hello\", 3.14, True]\n"
   ]
  },
  {
   "cell_type": "markdown",
   "id": "376bcba8-33ac-4439-81a9-4d4d6a05ffd7",
   "metadata": {},
   "source": [
    "# 10. Why are strings immutable in Python?\n",
    "ANS:\n",
    "Saves memory\n",
    "\n",
    "Secure and fast\n",
    "- Example:\n",
    "\n",
    "s = \"apple\"  \n",
    "NOTE:s[0] = 'A' Not allowed\n"
   ]
  },
  {
   "cell_type": "markdown",
   "id": "b79538dd-b144-46a0-a513-8eeba2fac337",
   "metadata": {},
   "source": [
    "# 11. What advantages do dictionaries offer over lists for certain tasks?\n",
    "ANS:\n",
    "- Fast access to data using a key (like a name).\n",
    "- Easy to search by key, not by position.\n",
    "- Keys are unique, so no duplicates.\n",
    "- Better for mapping values (like names to marks)."
   ]
  },
  {
   "cell_type": "markdown",
   "id": "ae5b97f0-6ca8-4e98-8e57-9bd91347201d",
   "metadata": {},
   "source": [
    "# 12. Describe a situation where a tuple is better than a list.\n",
    "ANS:\n",
    "- Use a tuple when:\n",
    "- You don’t want to change the data\n",
    "- Data should be safe and fixed\n",
    "- It makes your code faster and more secure\n",
    "\n",
    "\n"
   ]
  },
  {
   "cell_type": "markdown",
   "id": "7894736c-2db1-4a62-af65-f32550a499df",
   "metadata": {},
   "source": [
    "# 13. How do sets handle duplicate values in Python?\n",
    "\n",
    "ANS:\n",
    "Its handles duplicate values by remove duplicates automatically.\n",
    "- Example:\n",
    "s = {1, 2, 2, 3}\n",
    "print(s)  # Output: {1, 2, 3}\n"
   ]
  },
  {
   "cell_type": "markdown",
   "id": "aa8f4df6-2c97-49a7-af5f-6bf156d8e2da",
   "metadata": {},
   "source": [
    "# 14. How does the \"in\" keyword work for lists and dictionaries?\n",
    "ANS:\n",
    "For list: checks value  \n",
    "For dictionary: checks key\n",
    "- Example:\n",
    "my_list = [1, 2, 3]  \n",
    "print(2 in my_list)  # True"
   ]
  },
  {
   "cell_type": "markdown",
   "id": "31d2188b-14ee-471e-8062-421e629f0490",
   "metadata": {},
   "source": [
    "# 15. Can you modify the elements of a tuple? Why or why not?\n",
    "ANS:\n",
    " No, you can’t change tuple values.\n",
    "Reason: Tuple is immutable.\n",
    "\n",
    "- Example:\n",
    "\n",
    "t = (1, 2, 3)  \n",
    "NOTE: t[0] = 10  Not allowed\n"
   ]
  },
  {
   "cell_type": "markdown",
   "id": "210bbf7a-7a72-442d-8d2e-6cc365f9efb0",
   "metadata": {},
   "source": [
    "# 16. What is a nested dictionary? Give an example.\n",
    "ANS:\n",
    "Nested dictionary means a dictionary inside another dictionary.\n",
    "- Example:\n",
    "student = {\n",
    "  \"name\": \"Komal\",  \n",
    "\"marks\": {\"math\": 90, \"science\": 85}  \n",
    "}\n"
   ]
  },
  {
   "cell_type": "markdown",
   "id": "e5039131-70c7-4370-bb6e-6d83296d6dde",
   "metadata": {},
   "source": [
    "# 17. Describe the time complexity of looking up a value in a dictionary.\n",
    "ANS:\n",
    "- It's very fast: almost O(1) time.\n",
    "- Means: takes same time even for big data."
   ]
  },
  {
   "cell_type": "markdown",
   "id": "9d5b20c5-c3c8-4c29-89c8-b05b820e09f7",
   "metadata": {},
   "source": [
    "# 18. When are lists preferred over dictionaries?\n",
    "ANS:\n",
    "Use lists when:\n",
    "- You need order\n",
    "- You don’t need key-value\n",
    "- You want to loop through items\n",
    "- Example:\n",
    "fruits = [\"apple\", \"banana\", \"cherry\"]"
   ]
  },
  {
   "cell_type": "markdown",
   "id": "7e1292ca-77db-46c7-80bb-c88498aea052",
   "metadata": {},
   "source": [
    "# 19. Why are dictionaries unordered, and how does that affect data retrieval?\n",
    "ANS:\n",
    "Dictionaries in Python are unordered collections (before Python version 3.7). This means that the items (key-value pairs) are not stored in a fixed sequence. The main reason for this is that dictionaries use a technique called hashing, which allows for fast data retrieval by key.\n",
    "Each key in the dictionary is converted to a unique index using a hash function. Because of this, the position of items in memory is based on the hash values, not on the order in which they were added.\n",
    "\n",
    "Effect on Data Retrieval:\n",
    "Fast Access: Retrieval is very fast using the key, for example: d[\"name\"] gives the value directly.\n",
    "\n",
    "No Order Guarantee (before Python 3.7): We cannot expect items to be returned in the same order as they were inserted.\n",
    "\n",
    "Order Maintained (from Python 3.7+): Python maintains insertion order, but we still should not depend on it for logical operations unless order matters.\n",
    "\n",
    "- Example:\n",
    "my_dict = {\"apple\": 1, \"banana\": 2, \"cherry\": 3}\n",
    "print(my_dict[\"banana\"])  # Output: 2"
   ]
  },
  {
   "cell_type": "markdown",
   "id": "a0f60b73-907a-47d1-a833-6831dcb7cd21",
   "metadata": {},
   "source": [
    "# 20. Difference between list and dictionary in data retrieval?\n",
    "| **Point**     | **List**                                         | **Dictionary**                                            |\n",
    "| --------------| ------------------------------------------------ | ----------------------------------------------------------|\n",
    "| Access Method | Uses index numbers                               | Uses keys                                                 |\n",
    "| Data Retrieval| Slower if you search by value (you need to loop) | Faster because it uses key-based access                   |\n",
    "| Example       | `my_list[2]` gives 3rd item                      | `my_dict[\"name\"]` gives value of key `\"name\"`             |\n",
    "| Order         | Maintains order (index 0, 1, 2...)               | From Python 3.7+, keeps insertion order, but uses hashing |\n",
    "| Best Use      | When you need items in a sequence                | When you need to connect key to value (like a name to age)|\n"
   ]
  },
  {
   "cell_type": "markdown",
   "id": "dd755a5a-f02a-4a7e-920f-23919020c125",
   "metadata": {},
   "source": [
    "Practical questions"
   ]
  },
  {
   "cell_type": "code",
   "execution_count": 236,
   "id": "bdc53c89-4cb1-4ebf-845a-eb5773bc75ce",
   "metadata": {},
   "outputs": [
    {
     "name": "stdout",
     "output_type": "stream",
     "text": [
      "name: komal ghadge\n"
     ]
    }
   ],
   "source": [
    "# 1.Write a code to creats a string with your name and print it.\n",
    "my_info=\"name: komal ghadge\"\n",
    "print(my_info)"
   ]
  },
  {
   "cell_type": "code",
   "execution_count": 23,
   "id": "ec782ef9-1540-4153-9b6a-b56308e33527",
   "metadata": {},
   "outputs": [
    {
     "name": "stdout",
     "output_type": "stream",
     "text": [
      "11\n"
     ]
    }
   ],
   "source": [
    "# 2.Write a code to find the length of thr string \"Hello world\"\n",
    "str=\"Hello World\"\n",
    "str1=len(str)\n",
    "print(str1)"
   ]
  },
  {
   "cell_type": "code",
   "execution_count": 3,
   "id": "162b34ee-1a22-4366-90d7-76e71970f42c",
   "metadata": {},
   "outputs": [
    {
     "name": "stdout",
     "output_type": "stream",
     "text": [
      "Pyt\n"
     ]
    }
   ],
   "source": [
    "# 3.Write a code to Slice the first 3 characters from the string \"Python Programming.\"\n",
    "my_str=\"Python Programming\"\n",
    "print(my_str[:3])\n"
   ]
  },
  {
   "cell_type": "code",
   "execution_count": 5,
   "id": "9f92ae66-9710-48c5-965d-6b9c7c157829",
   "metadata": {},
   "outputs": [
    {
     "name": "stdout",
     "output_type": "stream",
     "text": [
      "HELLO\n"
     ]
    }
   ],
   "source": [
    "# 4.Write a code to convert the string \"Hello\" to uppercase\n",
    "str=\"hello\"\n",
    "print(str.upper())"
   ]
  },
  {
   "cell_type": "code",
   "execution_count": 9,
   "id": "f78d6e8b-8a85-4d35-8262-54499291f04c",
   "metadata": {},
   "outputs": [
    {
     "name": "stdout",
     "output_type": "stream",
     "text": [
      "I like Orange\n"
     ]
    }
   ],
   "source": [
    "# 5.Write a code to replace the word \"apple\" with \"Orange\" in the string \"I like apple\".\n",
    "str=\"I like apple\"\n",
    "print(str.replace(\"apple\",\"Orange\"))"
   ]
  },
  {
   "cell_type": "code",
   "execution_count": 11,
   "id": "e9b4647d-e69a-4121-b697-f6515bfcef29",
   "metadata": {},
   "outputs": [
    {
     "name": "stdout",
     "output_type": "stream",
     "text": [
      "[1, 2, 3, 4, 5]\n"
     ]
    }
   ],
   "source": [
    "# 6.Write a code to create a list with numbers 1 to 5 and print it\n",
    "list=[1,2,3,4,5]\n",
    "print(list)"
   ]
  },
  {
   "cell_type": "code",
   "execution_count": 19,
   "id": "1908ba4e-7767-4912-8a3f-91bb03ef60f3",
   "metadata": {},
   "outputs": [
    {
     "name": "stdout",
     "output_type": "stream",
     "text": [
      "[1, 2, 3, 4, 10]\n"
     ]
    }
   ],
   "source": [
    "# 7.Write a code to append the number 10 to the list [1,2,3,4]\n",
    "my_list=[1,2,3,4]\n",
    "my_list.append(10)\n",
    "print(my_list)"
   ]
  },
  {
   "cell_type": "code",
   "execution_count": 28,
   "id": "88c6afbb-ea0a-4cdf-9b2a-514bfb043193",
   "metadata": {},
   "outputs": [
    {
     "name": "stdout",
     "output_type": "stream",
     "text": [
      "[1, 2, 4, 5]\n"
     ]
    }
   ],
   "source": [
    "# 8.Write a code to remove the number 3 from the list [1,2,3,4,5]\n",
    "list=[1,2,3,4,5]\n",
    "list.remove(3)\n",
    "print(list)"
   ]
  },
  {
   "cell_type": "code",
   "execution_count": 1,
   "id": "a5669abd-bae4-4edc-9a19-cd6bfb5615cf",
   "metadata": {},
   "outputs": [
    {
     "name": "stdout",
     "output_type": "stream",
     "text": [
      "b\n"
     ]
    }
   ],
   "source": [
    "# 9.Write a code to access the second element in the list ['a','b','c','d']\n",
    "list=['a','b','c','d']\n",
    "print(list[1])\n"
   ]
  },
  {
   "cell_type": "code",
   "execution_count": 32,
   "id": "547c3a2a-a898-4426-a442-21c7704dd545",
   "metadata": {},
   "outputs": [
    {
     "name": "stdout",
     "output_type": "stream",
     "text": [
      "[50, 40, 30, 20, 10]\n"
     ]
    }
   ],
   "source": [
    "# 10.Write a code to reverse the list [10,20,30,40,50]\n",
    "list=[10,20,30,40,50]\n",
    "list.reverse()\n",
    "print(list)"
   ]
  },
  {
   "cell_type": "code",
   "execution_count": 34,
   "id": "2239eb76-45f4-434a-8c2c-ae33d554730c",
   "metadata": {},
   "outputs": [
    {
     "name": "stdout",
     "output_type": "stream",
     "text": [
      "(100, 200, 300)\n"
     ]
    }
   ],
   "source": [
    "# 11.Write a code to create a tuple with the elements 100,200,300 and print it.\n",
    "tuple=(100,200,300)\n",
    "print(tuple)"
   ]
  },
  {
   "cell_type": "code",
   "execution_count": 175,
   "id": "fbd9740f-43c4-46be-af09-eaf91c3bc965",
   "metadata": {},
   "outputs": [
    {
     "name": "stdout",
     "output_type": "stream",
     "text": [
      "blue\n"
     ]
    }
   ],
   "source": [
    "# 12.write a code to access the second-to-last element of the tuple ('red','green','blue') and print it.\n",
    "my_tuple=('red','green','blue','Yellow')\n",
    "print(my_tuple[-2])"
   ]
  },
  {
   "cell_type": "code",
   "execution_count": 177,
   "id": "2955252f-ed8b-4400-a184-de7cb4c1fb3d",
   "metadata": {},
   "outputs": [
    {
     "name": "stdout",
     "output_type": "stream",
     "text": [
      "5\n"
     ]
    }
   ],
   "source": [
    "# 13.Write a code to find the minimum number in the tuple(10,20,15,5)\n",
    "tuple=(10,20,15,5)\n",
    "print(min(tuple))"
   ]
  },
  {
   "cell_type": "code",
   "execution_count": 179,
   "id": "454c066b-9b9e-4561-8c6b-48df000961ff",
   "metadata": {},
   "outputs": [
    {
     "name": "stdout",
     "output_type": "stream",
     "text": [
      "1\n"
     ]
    }
   ],
   "source": [
    "# 14.Write a code to find the index of the element 'cat' in the tuple ('dog','cat','rabbit')\n",
    "tuple=('dog','cat','rabbit')\n",
    "print(tuple.index('cat'))"
   ]
  },
  {
   "cell_type": "code",
   "execution_count": 181,
   "id": "6a719ef9-095c-41b5-9037-0a38ce69e383",
   "metadata": {},
   "outputs": [
    {
     "name": "stdout",
     "output_type": "stream",
     "text": [
      "True\n"
     ]
    }
   ],
   "source": [
    "# 15 Write a code to create a tuple containing three different truits and check if 'kiwi' is in it.\n",
    "tuple=('Banana','Apple','Kiwi')\n",
    "print('Kiwi' in tuple)"
   ]
  },
  {
   "cell_type": "code",
   "execution_count": 66,
   "id": "cdf65f10-d12a-4fb9-af0e-d555d69ab3e1",
   "metadata": {},
   "outputs": [
    {
     "name": "stdout",
     "output_type": "stream",
     "text": [
      "{'b', 'a', 'c'}\n"
     ]
    }
   ],
   "source": [
    "#16.Write a code to create a set with the elements 'a','b','c' and print it\n",
    "my_set={'a','b','c' }\n",
    "print(my_set)"
   ]
  },
  {
   "cell_type": "code",
   "execution_count": 70,
   "id": "befb7cc4-ab4f-44b9-9705-b1a18302e268",
   "metadata": {},
   "outputs": [
    {
     "name": "stdout",
     "output_type": "stream",
     "text": [
      "set()\n"
     ]
    }
   ],
   "source": [
    "# 17.Write a code to clear all elements from the set {1,2,3,4,5}\n",
    "set= {1,2,3,4,5}\n",
    "set.clear()\n",
    "print(set)"
   ]
  },
  {
   "cell_type": "code",
   "execution_count": 72,
   "id": "f0d05b1b-226c-44d5-96a3-e2f65ee42b6e",
   "metadata": {},
   "outputs": [
    {
     "name": "stdout",
     "output_type": "stream",
     "text": [
      "{1, 2, 3}\n"
     ]
    }
   ],
   "source": [
    "# 18.Write a code to remove the elements 4 from set {1,2,3,4}\n",
    "set ={1,2,3,4}\n",
    "set.remove(4)\n",
    "print(set)"
   ]
  },
  {
   "cell_type": "code",
   "execution_count": 74,
   "id": "7806b79a-b928-4be7-9038-cdb28c363973",
   "metadata": {},
   "outputs": [
    {
     "name": "stdout",
     "output_type": "stream",
     "text": [
      "{1, 2, 3, 4, 5}\n"
     ]
    }
   ],
   "source": [
    "# 19.Write a code to find the union of two sets {1,2,3} and {3,4,5}\n",
    "set1={1,2,3}\n",
    "set2={3,4,5}\n",
    "print(set1.union (set2))\n"
   ]
  },
  {
   "cell_type": "code",
   "execution_count": 76,
   "id": "509fe3db-6f4c-443d-8e11-f0a6fb8297b8",
   "metadata": {},
   "outputs": [
    {
     "name": "stdout",
     "output_type": "stream",
     "text": [
      "{2, 3}\n"
     ]
    }
   ],
   "source": [
    "# 20.Write a code to find the intersection of two sets {1,2,3} and {2,3,4}\n",
    "se1={1,2,3}\n",
    "set2={2,3,4}\n",
    "print(set1.intersection (set2))"
   ]
  },
  {
   "cell_type": "code",
   "execution_count": 183,
   "id": "8bf38fad-616a-4d72-8680-1e3c5759685d",
   "metadata": {},
   "outputs": [
    {
     "name": "stdout",
     "output_type": "stream",
     "text": [
      "{'name': 'Komal Ghadge', 'age': 21, 'city': 'Satara'}\n"
     ]
    }
   ],
   "source": [
    "# 21.Write a code to create a dictionary with the keys \"name\",\"age\",and \"city\", and print it.\n",
    "dic={\"name\":\"Komal Ghadge\",\"age\":21,\"city\":\"Satara\"}\n",
    "print(dic)"
   ]
  },
  {
   "cell_type": "code",
   "execution_count": 84,
   "id": "7ad54412-cdb4-4815-bc3a-a96bb11d7518",
   "metadata": {},
   "outputs": [
    {
     "name": "stdout",
     "output_type": "stream",
     "text": [
      "{'name': 'John', 'age:': 25, 'Country': 'USA'}\n"
     ]
    }
   ],
   "source": [
    "# 22.Write a code to add to new key-value pair \"Country\":\"USA\" to the dictionary {\"name\":\"John\",\"age:\":25}\n",
    "dic= {\"name\":\"John\",\"age:\":25}\n",
    "dic.update({\"Country\":\"USA\" })\n",
    "print(dic)\n"
   ]
  },
  {
   "cell_type": "code",
   "execution_count": 86,
   "id": "6f016015-c3da-4330-8b22-930048a8e0fa",
   "metadata": {},
   "outputs": [
    {
     "name": "stdout",
     "output_type": "stream",
     "text": [
      "Alice\n"
     ]
    }
   ],
   "source": [
    "#23.Write a code to access the value associated with the key \"name\" in the dictionary  {\"name\":\"Alice\",\"age:\":30}\n",
    "my_dict= {\"name\":\"Alice\",\"age:\":30}\n",
    "print(my_dict.get(\"name\"))"
   ]
  },
  {
   "cell_type": "code",
   "execution_count": 88,
   "id": "1f09477b-294b-4a8d-a3f4-6fc36165035a",
   "metadata": {},
   "outputs": [
    {
     "name": "stdout",
     "output_type": "stream",
     "text": [
      "{'name': 'Bob', 'city': 'New York'}\n"
     ]
    }
   ],
   "source": [
    "# 24.Write a code to remove the key \"age\" from the dictionary {'name':'Bob','age':22,'city':'New York'}\n",
    "dict= {'name':'Bob','age':22,'city':'New York'}\n",
    "del dict[\"age\"]#pop also can be use.\n",
    "print(dict)"
   ]
  },
  {
   "cell_type": "code",
   "execution_count": 162,
   "id": "a07e80aa-e4b5-4b98-8aa4-857244266cb7",
   "metadata": {},
   "outputs": [
    {
     "name": "stdout",
     "output_type": "stream",
     "text": [
      "True\n"
     ]
    }
   ],
   "source": [
    "# 25 Write a code to check if the key \"city\" exists in the dictionary  {'name':'Alice',city':'Paris'}\n",
    "dict = {'name':'Alice','city':'Paris'}\n",
    "print('city' in dict)\n",
    "    "
   ]
  },
  {
   "cell_type": "code",
   "execution_count": 185,
   "id": "c08a3d08-9875-4641-a3d6-d9f64e11feda",
   "metadata": {},
   "outputs": [
    {
     "name": "stdout",
     "output_type": "stream",
     "text": [
      "[1, 2, 3.4, True, 'Dream_Germany']\n",
      "(3.7, 7, 8, 'Family', True, (6+7j))\n",
      "{'mom': 'Yamuna', 'father': 'Sanjay', 'Brother': 'Abhishek', 'age': 21}\n"
     ]
    }
   ],
   "source": [
    "# 26.Write a code to create a list ,a tuple, and a dictionary, and print them all\n",
    "list=[1,2,3.4,True,\"Dream_Germany\"]\n",
    "tuple=(3.7,7,8,\"Family\",True,6+7j)\n",
    "dict={\"mom\":\"Yamuna\",\"father\":\"Sanjay\",\"Brother\":\"Abhishek\",\"age\":21}\n",
    "print(list)\n",
    "print(tuple)\n",
    "print(dict)"
   ]
  },
  {
   "cell_type": "code",
   "execution_count": 158,
   "id": "4ce725fd-ebf9-44aa-9267-cfc7bdc0cf4a",
   "metadata": {},
   "outputs": [
    {
     "name": "stdout",
     "output_type": "stream",
     "text": [
      "[19, 60, 68, 82, 100]\n"
     ]
    }
   ],
   "source": [
    "# 27.Write a code to create a list of 5 random numbers between 1 and 100, sort it in ascending order, and  print the result(replaced).\n",
    "import random\n",
    "list=random.sample(range(1, 101), 5)\n",
    "list.sort()\n",
    "print(list)"
   ]
  },
  {
   "cell_type": "code",
   "execution_count": 156,
   "id": "d840bda8-40cf-4ed4-a618-38bc42947486",
   "metadata": {},
   "outputs": [
    {
     "name": "stdout",
     "output_type": "stream",
     "text": [
      "Date\n"
     ]
    }
   ],
   "source": [
    "# 28.Write a code to create a list with strings and print the element at the third index.\n",
    "list =[\"Apple\",\"Banana\",\"Cherry\",\"Date\"]\n",
    "print(list[3])"
   ]
  },
  {
   "cell_type": "code",
   "execution_count": 148,
   "id": "03f74f89-7a67-4687-a9e6-cf10152a3841",
   "metadata": {},
   "outputs": [
    {
     "name": "stdout",
     "output_type": "stream",
     "text": [
      "{'Name': 'komal', 'age': 21, 'city': 'Satara', 'Dream': 'Germany', 'year': 2027, 'language': 'German'}\n"
     ]
    }
   ],
   "source": [
    "#29.Write a code to combine two dictionaries into one and print the result.\n",
    "dict1={\"Name\":\"komal\",\"age\":21,\"city\":\"Satara\"}\n",
    "dict2={\"Dream\":\"Germany\",\"year\":2027,\"language\":\"German\"}\n",
    "dict1.update(dict2)\n",
    "print(dict1)"
   ]
  },
  {
   "cell_type": "code",
   "execution_count": 211,
   "id": "28d2f3ec-2ef6-4046-9189-6bca864c93a5",
   "metadata": {},
   "outputs": [
    {
     "name": "stdout",
     "output_type": "stream",
     "text": [
      "{'apple', 'banana', 'cherry'}\n"
     ]
    }
   ],
   "source": [
    "# 30.Write a code to convert a list of string into a set.\n",
    "my_list = [\"apple\", \"banana\", \"apple\", \"cherry\"]\n",
    "komal_set = set(my_list)\n",
    "print(komal_set)\n",
    "\n"
   ]
  }
 ],
 "metadata": {
  "kernelspec": {
   "display_name": "Python [conda env:base] *",
   "language": "python",
   "name": "conda-base-py"
  },
  "language_info": {
   "codemirror_mode": {
    "name": "ipython",
    "version": 3
   },
   "file_extension": ".py",
   "mimetype": "text/x-python",
   "name": "python",
   "nbconvert_exporter": "python",
   "pygments_lexer": "ipython3",
   "version": "3.12.7"
  }
 },
 "nbformat": 4,
 "nbformat_minor": 5
}
